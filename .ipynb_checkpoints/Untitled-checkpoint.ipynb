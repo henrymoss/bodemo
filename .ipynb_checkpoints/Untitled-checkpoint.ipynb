{
 "cells": [
  {
   "cell_type": "code",
   "execution_count": 1,
   "id": "de01a8fe",
   "metadata": {},
   "outputs": [],
   "source": [
    "from scripts import run_bo"
   ]
  },
  {
   "cell_type": "code",
   "execution_count": 2,
   "id": "28956fe3",
   "metadata": {},
   "outputs": [
    {
     "name": "stdout",
     "output_type": "stream",
     "text": [
      "Performing rep 0 of 1\n",
      "Optimization completed without errors\n"
     ]
    }
   ],
   "source": [
    "log_regret_ei = run_bo(num_steps =10)"
   ]
  },
  {
   "cell_type": "code",
   "execution_count": 8,
   "id": "5e142d86",
   "metadata": {},
   "outputs": [],
   "source": [
    "from trieste.acquisition.function import expected_improvement\n",
    "import tensorflow as tf\n",
    "import matplotlib.pyplot as plt\n",
    "class custom_acquisition_function(expected_improvement):\n",
    "    @tf.function\n",
    "    def __call__(self, x ): # [N, d] -> [N, 1]\n",
    "        mean, variance = self._model.predict(tf.squeeze(x, -2))\n",
    "\n",
    "        \n",
    "        # add own code here! Some examples are below\n",
    "\n",
    "        # for expected improvement, uncomment the next two lines\n",
    "        # normal = tfp.distributions.Normal(mean, tf.sqrt(variance))\n",
    "        # acq_values =  (self._eta - mean) * normal.cdf(self._eta) + variance * normal.prob(self._eta)\n",
    "\n",
    "        # lower confidence bound is the next two lines\n",
    "        beta = 1.0 \n",
    "        acq_values = mean - beta * tf.sqrt(variance)\n",
    "\n",
    "        # perhaps try a different value for beta? \n",
    "        # perhaps a dynamic value that uses the current iteration\n",
    "        current_iter = tf.shape(self._model._model.data[0])[0]\n",
    "        \n",
    "    \n",
    "        return acq_values"
   ]
  },
  {
   "cell_type": "code",
   "execution_count": 9,
   "id": "83d656d7",
   "metadata": {},
   "outputs": [
    {
     "name": "stdout",
     "output_type": "stream",
     "text": [
      "Performing rep 0 of 1\n",
      "WARNING:tensorflow:5 out of the last 19 calls to <function Scipy.eval_func.<locals>._tf_eval at 0x7feb04587b50> triggered tf.function retracing. Tracing is expensive and the excessive number of tracings could be due to (1) creating @tf.function repeatedly in a loop, (2) passing tensors with different shapes, (3) passing Python objects instead of tensors. For (1), please define your @tf.function outside of the loop. For (2), @tf.function has reduce_retracing=True option that can avoid unnecessary retracing. For (3), please refer to https://www.tensorflow.org/guide/function#controlling_retracing and https://www.tensorflow.org/api_docs/python/tf/function for  more details.\n",
      "WARNING:tensorflow:5 out of the last 13 calls to <function Scipy.eval_func.<locals>._tf_eval at 0x7feb04347490> triggered tf.function retracing. Tracing is expensive and the excessive number of tracings could be due to (1) creating @tf.function repeatedly in a loop, (2) passing tensors with different shapes, (3) passing Python objects instead of tensors. For (1), please define your @tf.function outside of the loop. For (2), @tf.function has reduce_retracing=True option that can avoid unnecessary retracing. For (3), please refer to https://www.tensorflow.org/guide/function#controlling_retracing and https://www.tensorflow.org/api_docs/python/tf/function for  more details.\n",
      "Optimization completed without errors\n"
     ]
    }
   ],
   "source": [
    "log_regret_lcb = run_bo(acquisition_fn = custom_acquisition_function, num_steps =10)"
   ]
  },
  {
   "cell_type": "code",
   "execution_count": null,
   "id": "0bad41e7",
   "metadata": {},
   "outputs": [],
   "source": [
    "plt.figure()\n",
    "plt.xlabel(\"# Function Evals\")\n",
    "plt.ylabel(\"Regret\")\n",
    "\n",
    "plt.plot(log_regret_ei, color=\"blue\", label=\"ei\")\n",
    "plt.plot(log_regret_lcb, color=\"blue\", label=\"lcb\")\n",
    "plt.legend()"
   ]
  },
  {
   "cell_type": "code",
   "execution_count": null,
   "id": "4ae5a973",
   "metadata": {},
   "outputs": [],
   "source": []
  }
 ],
 "metadata": {
  "kernelspec": {
   "display_name": "bodemo",
   "language": "python",
   "name": "bodemo"
  },
  "language_info": {
   "codemirror_mode": {
    "name": "ipython",
    "version": 3
   },
   "file_extension": ".py",
   "mimetype": "text/x-python",
   "name": "python",
   "nbconvert_exporter": "python",
   "pygments_lexer": "ipython3",
   "version": "3.10.0"
  }
 },
 "nbformat": 4,
 "nbformat_minor": 5
}
